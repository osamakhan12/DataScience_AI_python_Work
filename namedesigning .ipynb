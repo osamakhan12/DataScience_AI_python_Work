{
 "cells": [
  {
   "cell_type": "code",
   "execution_count": 2,
   "metadata": {},
   "outputs": [],
   "source": [
    "import pyfiglet"
   ]
  },
  {
   "cell_type": "code",
   "execution_count": 3,
   "metadata": {},
   "outputs": [],
   "source": [
    "name=pyfiglet.figlet_format(\"AK\")"
   ]
  },
  {
   "cell_type": "code",
   "execution_count": 4,
   "metadata": {},
   "outputs": [
    {
     "name": "stdout",
     "output_type": "stream",
     "text": [
      "    _    _  __\n",
      "   / \\  | |/ /\n",
      "  / _ \\ | ' / \n",
      " / ___ \\| . \\ \n",
      "/_/   \\_\\_|\\_\\\n",
      "              \n",
      "\n"
     ]
    }
   ],
   "source": [
    "print(name)"
   ]
  },
  {
   "cell_type": "code",
   "execution_count": 5,
   "metadata": {},
   "outputs": [],
   "source": [
    "name=pyfiglet.figlet_format(\"AK\",font='alphabet')"
   ]
  },
  {
   "cell_type": "code",
   "execution_count": 6,
   "metadata": {},
   "outputs": [
    {
     "name": "stdout",
     "output_type": "stream",
     "text": [
      " AA  K  K \n",
      "A  A K K  \n",
      "AAAA KK   \n",
      "A  A K K  \n",
      "A  A K  K \n",
      "          \n",
      "          \n",
      "\n"
     ]
    }
   ],
   "source": [
    "print(name)"
   ]
  },
  {
   "cell_type": "code",
   "execution_count": 9,
   "metadata": {},
   "outputs": [],
   "source": [
    "name=pyfiglet.figlet_format(\"OK\",font='banner3-D')"
   ]
  },
  {
   "cell_type": "code",
   "execution_count": 10,
   "metadata": {},
   "outputs": [
    {
     "name": "stdout",
     "output_type": "stream",
     "text": [
      ":'#######::'##:::'##:\n",
      "'##.... ##: ##::'##::\n",
      " ##:::: ##: ##:'##:::\n",
      " ##:::: ##: #####::::\n",
      " ##:::: ##: ##. ##:::\n",
      " ##:::: ##: ##:. ##::\n",
      ". #######:: ##::. ##:\n",
      ":.......:::..::::..::\n",
      "\n"
     ]
    }
   ],
   "source": [
    "print(name)"
   ]
  },
  {
   "cell_type": "code",
   "execution_count": 12,
   "metadata": {},
   "outputs": [],
   "source": [
    "name=pyfiglet.figlet_format(\"OK\",font='slant')"
   ]
  },
  {
   "cell_type": "code",
   "execution_count": 13,
   "metadata": {},
   "outputs": [
    {
     "name": "stdout",
     "output_type": "stream",
     "text": [
      "   ____  __ __\n",
      "  / __ \\/ //_/\n",
      " / / / / ,<   \n",
      "/ /_/ / /| |  \n",
      "\\____/_/ |_|  \n",
      "              \n",
      "\n"
     ]
    }
   ],
   "source": [
    "print(name)"
   ]
  },
  {
   "cell_type": "code",
   "execution_count": null,
   "metadata": {},
   "outputs": [],
   "source": []
  }
 ],
 "metadata": {
  "kernelspec": {
   "display_name": "Python 3",
   "language": "python",
   "name": "python3"
  },
  "language_info": {
   "codemirror_mode": {
    "name": "ipython",
    "version": 3
   },
   "file_extension": ".py",
   "mimetype": "text/x-python",
   "name": "python",
   "nbconvert_exporter": "python",
   "pygments_lexer": "ipython3",
   "version": "3.7.4"
  }
 },
 "nbformat": 4,
 "nbformat_minor": 2
}
