{
 "cells": [
  {
   "cell_type": "code",
   "execution_count": 1,
   "metadata": {},
   "outputs": [],
   "source": [
    "import pyttsx3 #pip install pyttsx3\n",
    "import speech_recognition as sr# pip install SpeecRecognition\n",
    "import datetime \n",
    "import wikipedia #pip install wikipedia\n",
    "import webbrowser\n",
    "import os\n",
    "import smtplib"
   ]
  },
  {
   "cell_type": "code",
   "execution_count": 2,
   "metadata": {},
   "outputs": [
    {
     "name": "stdout",
     "output_type": "stream",
     "text": [
      "Intialize virtual\n"
     ]
    }
   ],
   "source": [
    "print(\"Intialize virtual\")"
   ]
  },
  {
   "cell_type": "code",
   "execution_count": 3,
   "metadata": {},
   "outputs": [],
   "source": [
    "MASTER=\"Hassan\"\n",
    "engine=pyttsx3.init('sapi5')\n",
    "voices=engine.getProperty('voices')\n",
    "engine.setProperty('voice',voices[0].id)\n",
    "#Sepak functionn will pronounce the string which is passed to it\n",
    "def speak(text):\n",
    "    engine.say(text)\n",
    "    engine.runAndWait()\n",
    "#This function will wish you as per curretn time\n",
    "def wishme():\n",
    "    hour=int(datetime.datetime.now().hour)\n",
    "    print(hour)\n",
    "    if hour>=0 and hour<12:\n",
    "        speak(\"Good Morning\"+MASTER)\n",
    "    elif hour>=12 and hour<18:\n",
    "        speak(\"Good Afternoon\"+MASTER)\n",
    "    else:\n",
    "        speak(\"Good Evening\"+MASTER)\n",
    "    speak(\"I m Hassan, How may i help you?\")"
   ]
  },
  {
   "cell_type": "code",
   "execution_count": 9,
   "metadata": {},
   "outputs": [
    {
     "name": "stdout",
     "output_type": "stream",
     "text": [
      "5\n",
      "Listening.......\n",
      "Recognizing....\n",
      "You said : send email\n",
      "Listening.......\n",
      "Recognizing....\n",
      "You said : f*** you\n"
     ]
    }
   ],
   "source": [
    "#this funtion will take the command from microphone\n",
    "def takecommand():\n",
    "    r=sr.Recognizer()\n",
    "    with sr.Microphone() as source:\n",
    "        print(\"Listening.......\")\n",
    "        audio=r.listen(source)\n",
    "    try:\n",
    "        print(\"Recognizing....\")\n",
    "        text = r.recognize_google(audio)\n",
    "        print(\"You said : {}\".format(text))\n",
    "       \n",
    "    except Exception as e:\n",
    "        print(\"Say that again please\")\n",
    "        text=None\n",
    "    return text\n",
    "def sendemail(to,content):\n",
    "    server=smtplib.SMTP('smtp.gmail.com',587)\n",
    "    server.ehlo()\n",
    "    server.starttls()\n",
    "    server.login('A.samad541@gmail.com','A.samad123')\n",
    "    server.sendmail('A.samad541@gmail.com',to,content)\n",
    "    server.close()\n",
    "#Main Program here\n",
    "speak(\"Hassan Laptop Assistant\")\n",
    "wishme()\n",
    "query = takecommand()\n",
    "#logic for executing tasks as per the query\n",
    "if 'wikipedia' in query.lower():\n",
    "    speak('searching wikipedia...')\n",
    "    query = query.replace(\"wikipedia\", \"\")\n",
    "    results = wikipedia.summary(query, sentences =2)\n",
    "    print(results)\n",
    "    speak(results) \n",
    "elif 'open google' in query.lower():\n",
    "    url = \"google.com\"\n",
    "    chrome_path = 'C:/Program Files (x86)/Google/Chrome/Application/chrome.exe %s'\n",
    "    webbrowser.get(chrome_path).open(url)\n",
    "    #webbrowser.open(\"google.com\")\n",
    "elif 'open youtube' in query.lower():\n",
    "    #webbrowser.open(\"youtube.com\"\n",
    "    url = \"youtube.com\"\n",
    "    chrome_path = 'C:/Program Files (x86)/Google/Chrome/Application/chrome.exe %s'\n",
    "    webbrowser.get(chrome_path).open(url)\n",
    "elif 'open github account' in query.lower():\n",
    "    #webbrowser.open(\"youtube.com\"\n",
    "    url = \"https://github.com/hassanmughal467\"\n",
    "    chrome_path = 'C:/Program Files (x86)/Google/Chrome/Application/chrome.exe %s'\n",
    "    webbrowser.get(chrome_path).open(url)\n",
    "elif 'open facebook' in query.lower():\n",
    "    #webbrowser.open(\"youtube.com\"\n",
    "    url = \"https://www.facebook.com/login/device-based/regular/login/?login_attempt=1&lwv=110\"\n",
    "    chrome_path = 'C:/Program Files (x86)/Google/Chrome/Application/chrome.exe %s'\n",
    "    webbrowser.get(chrome_path).open(url)\n",
    "elif 'the time' in query.lower():\n",
    "    strttime=datetime.datetime.now().strftime('%H:%M:%S')\n",
    "    speak(f\"{MASTER} the time is {strttime}\" )\n",
    "elif 'open code folder' in query.lower():\n",
    "    path=\"D:/c/Desktop/PIAIC\"\n",
    "    os.startfile(path)\n",
    "elif 'send email' in query.lower():\n",
    "    try:\n",
    "        speak(\"What should i send\")\n",
    "        content=takecommand()\n",
    "        to=\"okagg322@gmail.com\"    \n",
    "        sendemail(to,content)\n",
    "        speak(\"email has been send successfully\")\n",
    "    except:\n",
    "        print(\"invalid email/password\")"
   ]
  },
  {
   "cell_type": "code",
   "execution_count": 8,
   "metadata": {},
   "outputs": [],
   "source": [
    "def sendemail(to,content):\n",
    "    server=smtplib.SMTP('smtp.gmail.com',587)\n",
    "    server.ehlo()\n",
    "    server.starttls()\n",
    "    server.login('A.samad541@gmail.com','A.samad123')\n",
    "    server.sendmail('A.samad541@gmail.com',to,content)\n",
    "    server.close()\n",
    "to=\"okagg322@gmail.com\"\n",
    "content=\"osama\"\n",
    "sendemail(to,content)\n",
    "speak(\"email has been send successfully\")\n",
    "       \n"
   ]
  },
  {
   "cell_type": "code",
   "execution_count": null,
   "metadata": {},
   "outputs": [],
   "source": []
  }
 ],
 "metadata": {
  "kernelspec": {
   "display_name": "Python 3",
   "language": "python",
   "name": "python3"
  },
  "language_info": {
   "codemirror_mode": {
    "name": "ipython",
    "version": 3
   },
   "file_extension": ".py",
   "mimetype": "text/x-python",
   "name": "python",
   "nbconvert_exporter": "python",
   "pygments_lexer": "ipython3",
   "version": "3.7.3"
  }
 },
 "nbformat": 4,
 "nbformat_minor": 2
}
