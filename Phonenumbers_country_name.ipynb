{
 "cells": [
  {
   "cell_type": "code",
   "execution_count": 4,
   "metadata": {},
   "outputs": [
    {
     "name": "stdout",
     "output_type": "stream",
     "text": [
      "2020-03-10 12:35:50.430187\n"
     ]
    },
    {
     "data": {
      "text/plain": [
       "'\\nnum=phonenumbers.parse(\"+923002145542\",\"CH\")\\ncountry=geocoder.description_for_number(num,\"en\")\\nservice=carrier.name_for_number(num,\"en\")\\nprint(country)\\nprint(service)\\n'"
      ]
     },
     "execution_count": 4,
     "metadata": {},
     "output_type": "execute_result"
    }
   ],
   "source": [
    "from  phonenumbers import geocoder\n",
    "from phonenumbers import carrier\n",
    "import datetime\n",
    "a=datetime.datetime.now()\n",
    "print(a)\n",
    "\n",
    "'''\n",
    "num=phonenumbers.parse(\"+923002145542\",\"CH\")\n",
    "country=geocoder.description_for_number(num,\"en\")\n",
    "service=carrier.name_for_number(num,\"en\")\n",
    "print(country)\n",
    "print(service)\n",
    "'''"
   ]
  },
  {
   "cell_type": "code",
   "execution_count": 6,
   "metadata": {},
   "outputs": [
    {
     "name": "stdout",
     "output_type": "stream",
     "text": [
      "Germany\n",
      "\n"
     ]
    }
   ],
   "source": [
    "num=phonenumbers.parse(\"+4932221098936\",\"CH\")\n",
    "country=geocoder.description_for_number(num,\"en\")\n",
    "service=carrier.name_for_number(num,\"en\")\n",
    "print(country)\n",
    "print(service)"
   ]
  },
  {
   "cell_type": "code",
   "execution_count": 7,
   "metadata": {},
   "outputs": [
    {
     "name": "stdout",
     "output_type": "stream",
     "text": [
      "Ouarzazate\n",
      "\n"
     ]
    }
   ],
   "source": [
    "num=phonenumbers.parse(\"+2120524890654\",\"CH\")\n",
    "country=geocoder.description_for_number(num,\"en\")\n",
    "service=carrier.name_for_number(num,\"en\")\n",
    "print(country)\n",
    "print(service)"
   ]
  },
  {
   "cell_type": "code",
   "execution_count": null,
   "metadata": {},
   "outputs": [],
   "source": []
  }
 ],
 "metadata": {
  "kernelspec": {
   "display_name": "Python 3",
   "language": "python",
   "name": "python3"
  },
  "language_info": {
   "codemirror_mode": {
    "name": "ipython",
    "version": 3
   },
   "file_extension": ".py",
   "mimetype": "text/x-python",
   "name": "python",
   "nbconvert_exporter": "python",
   "pygments_lexer": "ipython3",
   "version": "3.7.4"
  }
 },
 "nbformat": 4,
 "nbformat_minor": 2
}
